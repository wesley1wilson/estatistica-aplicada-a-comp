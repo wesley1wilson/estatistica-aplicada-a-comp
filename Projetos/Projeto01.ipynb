{
 "cells": [
  {
   "cell_type": "markdown",
   "metadata": {},
   "source": [
    "<div class=\"alert alert-block alert-info\">\n",
    "<center>ESTATÍSTICA APLICADA A COMPUTAÇÃO</center>\n<br>",
    "<center>PROJETO 01</center><br>\n",
    "<center>ALUNO: WESLEY WILSON ALMEIDA ARAÚJO</center>\n",
    "</div>"
   ]
  },
  {
   "cell_type": "markdown",
   "metadata": {},
   "source": [
    "<center><b>Acidentes de Trânsito em Rodovias Federais"
   ]
  },
  {
   "cell_type": "markdown",
   "metadata": {},
   "source": [
    "<b>Dados</b><br>\n",
    "<a href=\"https://www.gov.br/prf/pt-br/acesso-a-informacao/dados-abertos/dados-abertos\">Portal de dados abertos</a><br>\n",
    "<a href=\"https://www.gov.br/prf/pt-br/acesso-a-informacao/dados-abertos/dados-abertos-acidentes\">Acidentes</a>\n"
   ]
  },
  {
   "cell_type": "markdown",
   "metadata": {},
   "source": [
    "<div class=\"alert alert-block alert-info\">\n",
    "<b>1ª Tarefa</b>\n",
    " \n",
    "Carregue em dataframes os conjuntos de dados referentes ao ano de 2018, 2019 e 2020. Corrija quaisquer erros que apareçam no carregamento dos arquivos. É possível acessar os arquivos\n",
    "compactados diretamente do site, sem precisar baixá-los?\n",
    "</div>"
   ]
  },
  {
   "cell_type": "code",
   "execution_count": 1,
   "metadata": {
    "scrolled": false
   },
   "outputs": [],
   "source": [
    "import pandas as pd\n",
    "df2018 = pd.read_csv('https://arquivos.prf.gov.br/arquivos/index.php/s/MaC6cieXSFACNWT/download', compression='zip', encoding='latin1', sep=';')\n",
    "df2019 = pd.read_csv('https://arquivos.prf.gov.br/arquivos/index.php/s/kRBUylqz6DyQznN/download', compression='zip', encoding='latin1', sep=';')\n",
    "df2020 = pd.read_csv('https://arquivos.prf.gov.br/arquivos/index.php/s/jdDLrQIf33xXSCe/download', compression='zip', encoding='latin1', sep=';')"
   ]
  },
  {
   "cell_type": "markdown",
   "metadata": {},
   "source": [
    "Para a escolha do arquivo, eu achei melhor a organização dos acidentes agrupados por ocorrência, pois dá pra ter uma dimensão melhor de quantos casos aconteceram, no arquivo agrupado por pessoa, fica mais difícil pois tem várias linhas para 1 só ocorrência dependendo de quantas pessoas foram atingidas."
   ]
  },
  {
   "cell_type": "markdown",
   "metadata": {},
   "source": [
    "Após várias tentativas e erros, é possível sim carregar os dataframes diretamente do site sem precisar baixá-los, para isso, eu usei a função (read_csv) da biblioteca pandas, porém, ao tentar abrir o dataframe apareceu o seguinte erro:                  \n",
    "• <i><font color=\"#ff0000\">UnicodeDecodeError: 'utf-8' codec can't decode byte 0xf3 in position 10: invalid continuation byte.</font></i>                     \n",
    "Para resolver esse erro, bastou usar o (encoding='latin1') para alterar o método de decodificação do arquivo, só que em seguida apareceu outro erro:                                                                                                          \n",
    "• <i><font color=\"#ff0000\">Error tokenizing data. C error: Expected 3 fields in line 19, saw 5.</font></i>                              \n",
    "Esse erro indica que está com problema na separação das colunas, para isso eu utilizei (sep='<b>;</b>)', porém, apesar de corrigir esse erro específico, foram surgindo novos erros, até que eu encontrei nesse <a href=\"https://qastack.com.br/programming/18885175/read-a-zipped-file-as-a-pandas-dataframe\">link</a> que faltava descompactar o arquivo, pois estava lendo da mesma forma que baixou, e após ter colocado (compression='zip') o dataframe foi carregado sem demais erros. Então é possível sim, ler os arquivos diretamente do site sem precisar baixá-los."
   ]
  },
  {
   "cell_type": "markdown",
   "metadata": {},
   "source": [
    "<div class=\"alert alert-block alert-info\">\n",
    "<b>2ª Tarefa</b>\n",
    " \n",
    "Explore os conjuntos de dados, respondendo as questões.\n",
    "</div>"
   ]
  },
  {
   "cell_type": "markdown",
   "metadata": {},
   "source": [
    "<u>(a) quantos acidentes ocorreram em cada ano?</u>"
   ]
  },
  {
   "cell_type": "code",
   "execution_count": 2,
   "metadata": {},
   "outputs": [
    {
     "name": "stdout",
     "output_type": "stream",
     "text": [
      "Aconteceram 69295 acidentes no ano de 2018.\n"
     ]
    }
   ],
   "source": [
    "Acidentes2018 = len(df2018)\n",
    "print(\"Aconteceram\", Acidentes2018, \"acidentes no ano de 2018.\")"
   ]
  },
  {
   "cell_type": "code",
   "execution_count": 3,
   "metadata": {},
   "outputs": [
    {
     "name": "stdout",
     "output_type": "stream",
     "text": [
      "Aconteceram 67446 acidentes no ano de 2019.\n"
     ]
    }
   ],
   "source": [
    "Acidentes2019 = len(df2019)\n",
    "print(\"Aconteceram\", Acidentes2019, \"acidentes no ano de 2019.\")"
   ]
  },
  {
   "cell_type": "code",
   "execution_count": 4,
   "metadata": {},
   "outputs": [
    {
     "name": "stdout",
     "output_type": "stream",
     "text": [
      "Aconteceram 63548 acidentes no ano de 2020.\n"
     ]
    }
   ],
   "source": [
    "Acidentes2020 = len(df2020)\n",
    "print(\"Aconteceram\", Acidentes2020, \"acidentes no ano de 2020.\")"
   ]
  },
  {
   "cell_type": "markdown",
   "metadata": {},
   "source": [
    "Como os arquivos contém a descrição de 1 acidente em cada linha, basta contar a quantidade de linhas para saber o número de acidentes que aconteceram em cada ano."
   ]
  },
  {
   "cell_type": "markdown",
   "metadata": {},
   "source": [
    "<u>(b) quantas variáveis cada conjunto de dados registra?</u>"
   ]
  },
  {
   "cell_type": "code",
   "execution_count": 5,
   "metadata": {},
   "outputs": [
    {
     "name": "stdout",
     "output_type": "stream",
     "text": [
      "O conjunto de dados de 2018 registra 30 variáveis.\n"
     ]
    }
   ],
   "source": [
    "Variaveis2018 = len(df2018.columns)\n",
    "print(\"O conjunto de dados de 2018 registra\", Variaveis2018, \"variáveis.\")"
   ]
  },
  {
   "cell_type": "code",
   "execution_count": 6,
   "metadata": {},
   "outputs": [
    {
     "name": "stdout",
     "output_type": "stream",
     "text": [
      "O conjunto de dados de 2019 registra 30 variáveis.\n"
     ]
    }
   ],
   "source": [
    "Variaveis2019 = len(df2019.columns)\n",
    "print(\"O conjunto de dados de 2019 registra\", Variaveis2019, \"variáveis.\")"
   ]
  },
  {
   "cell_type": "code",
   "execution_count": 7,
   "metadata": {},
   "outputs": [
    {
     "name": "stdout",
     "output_type": "stream",
     "text": [
      "O conjunto de dados de 2020 registra 30 variáveis.\n"
     ]
    }
   ],
   "source": [
    "Variaveis2020 = len(df2020.columns)\n",
    "print(\"O conjunto de dados de 2020 registra\", Variaveis2020, \"variáveis.\")"
   ]
  },
  {
   "cell_type": "markdown",
   "metadata": {},
   "source": [
    "Para saber a quantidade de variáveis de cada conjunto, é preciso saber a quantidade de colunas que o arquivo tem, pois cada coluna possui uma variável diferente. Foi esperado que os 3 conjuntos tivessem a mesma quantidade de variáveis para que mantivesse um padrão em comparação com as dos anos anteriores."
   ]
  },
  {
   "cell_type": "markdown",
   "metadata": {},
   "source": [
    "<u>(c) quais as cinco cidades brasileiras onde mais ocorreram acidentes em rodovias federais?</u>"
   ]
  },
  {
   "cell_type": "code",
   "execution_count": 8,
   "metadata": {},
   "outputs": [
    {
     "data": {
      "text/plain": [
       "CURITIBA                   3063\n",
       "BRASILIA                   2997\n",
       "SAO JOSE                   2322\n",
       "GUARULHOS                  2111\n",
       "PALHOCA                    1887\n",
       "                           ... \n",
       "IBARETAMA                     1\n",
       "SANTO AMARO DO MARANHAO       1\n",
       "JUINA                         1\n",
       "PARICONHA                     1\n",
       "ANAJAS                        1\n",
       "Name: municipio, Length: 1926, dtype: int64"
      ]
     },
     "execution_count": 8,
     "metadata": {},
     "output_type": "execute_result"
    }
   ],
   "source": [
    "df = df2018.append([df2019, df2020])\n",
    "df['municipio'].value_counts()"
   ]
  },
  {
   "cell_type": "markdown",
   "metadata": {},
   "source": [
    "As cidades que mais ocorreram acidentes do período de 2018 a 2020 (por ordem) são: Curitiba(PR), Brasília(DF), São José dos Pinhais(PR), Guarulhos(SP) e Palhoça(SC)."
   ]
  },
  {
   "cell_type": "markdown",
   "metadata": {},
   "source": [
    "Na realização dessa questão eu usei o append por já estar mais acostumado com esse método, além de encontrar no próprio <a href=\"https://pandas.pydata.org/pandas-docs/stable/user_guide/merging.html#concatenating-using-append\">guia do pandas</a> essa forma que me atendia bem. Em seguida só precisaria rankear, e o (value_counts) faz isso muito bem."
   ]
  },
  {
   "cell_type": "markdown",
   "metadata": {},
   "source": [
    "<u>(d) quantos acidentes com feridos graves aconteceram na Paraíba em 2019?</u>"
   ]
  },
  {
   "cell_type": "code",
   "execution_count": 9,
   "metadata": {},
   "outputs": [
    {
     "data": {
      "text/plain": [
       "MG    1956\n",
       "PR    1754\n",
       "SC    1715\n",
       "RS     888\n",
       "ES     879\n",
       "BA     847\n",
       "RJ     794\n",
       "GO     727\n",
       "PE     634\n",
       "SP     585\n",
       "CE     457\n",
       "PB     414\n",
       "PI     403\n",
       "RO     360\n",
       "RN     356\n",
       "MT     355\n",
       "MA     349\n",
       "MS     346\n",
       "AL     197\n",
       "PA     175\n",
       "DF     162\n",
       "SE     148\n",
       "TO     117\n",
       "AC      62\n",
       "RR      50\n",
       "AP      26\n",
       "AM      21\n",
       "Name: uf, dtype: int64"
      ]
     },
     "execution_count": 9,
     "metadata": {},
     "output_type": "execute_result"
    }
   ],
   "source": [
    "feridos = df2019.loc[df2019['feridos_graves'] >= 1]\n",
    "feridos['uf'].value_counts()"
   ]
  },
  {
   "cell_type": "markdown",
   "metadata": {},
   "source": [
    "Na Paraíba tiveram 414 acidentes com feridos graves no ano de 2019."
   ]
  },
  {
   "cell_type": "markdown",
   "metadata": {},
   "source": [
    "Essa questão eu tive que utilizar uma condicional para conseguir extrair apenas os acidentes que tiveram feridos graves, por isso eu utilizei o (.loc), em seguida só contei os valores que tinha em cada estado pela mesma função do quesito anterior."
   ]
  },
  {
   "cell_type": "markdown",
   "metadata": {},
   "source": [
    "<div class=\"alert alert-block alert-info\">\n",
    "<b>3ª Tarefa</b>\n",
    " \n",
    "Para cada indicação abaixo, construa um novo dataframe, salvando-o com a terminação .csv.\n",
    "</div>"
   ]
  },
  {
   "cell_type": "markdown",
   "metadata": {},
   "source": [
    "<u>(a) ranking de acidentes por estado para todos os anos (um só arquivo combinando a\n",
    "informação dos três anos);</u>"
   ]
  },
  {
   "cell_type": "code",
   "execution_count": 10,
   "metadata": {
    "scrolled": false
   },
   "outputs": [
    {
     "data": {
      "text/html": [
       "<div>\n",
       "<style scoped>\n",
       "    .dataframe tbody tr th:only-of-type {\n",
       "        vertical-align: middle;\n",
       "    }\n",
       "\n",
       "    .dataframe tbody tr th {\n",
       "        vertical-align: top;\n",
       "    }\n",
       "\n",
       "    .dataframe thead th {\n",
       "        text-align: right;\n",
       "    }\n",
       "</style>\n",
       "<table border=\"1\" class=\"dataframe\">\n",
       "  <thead>\n",
       "    <tr style=\"text-align: right;\">\n",
       "      <th></th>\n",
       "      <th>Estados</th>\n",
       "      <th>Acidentes</th>\n",
       "    </tr>\n",
       "  </thead>\n",
       "  <tbody>\n",
       "    <tr>\n",
       "      <th>0</th>\n",
       "      <td>MG</td>\n",
       "      <td>26160</td>\n",
       "    </tr>\n",
       "    <tr>\n",
       "      <th>1</th>\n",
       "      <td>SC</td>\n",
       "      <td>24145</td>\n",
       "    </tr>\n",
       "    <tr>\n",
       "      <th>2</th>\n",
       "      <td>PR</td>\n",
       "      <td>22850</td>\n",
       "    </tr>\n",
       "    <tr>\n",
       "      <th>3</th>\n",
       "      <td>RJ</td>\n",
       "      <td>13417</td>\n",
       "    </tr>\n",
       "    <tr>\n",
       "      <th>4</th>\n",
       "      <td>RS</td>\n",
       "      <td>13216</td>\n",
       "    </tr>\n",
       "    <tr>\n",
       "      <th>5</th>\n",
       "      <td>SP</td>\n",
       "      <td>12936</td>\n",
       "    </tr>\n",
       "    <tr>\n",
       "      <th>6</th>\n",
       "      <td>BA</td>\n",
       "      <td>10482</td>\n",
       "    </tr>\n",
       "    <tr>\n",
       "      <th>7</th>\n",
       "      <td>GO</td>\n",
       "      <td>10046</td>\n",
       "    </tr>\n",
       "    <tr>\n",
       "      <th>8</th>\n",
       "      <td>ES</td>\n",
       "      <td>8018</td>\n",
       "    </tr>\n",
       "    <tr>\n",
       "      <th>9</th>\n",
       "      <td>PE</td>\n",
       "      <td>8011</td>\n",
       "    </tr>\n",
       "    <tr>\n",
       "      <th>10</th>\n",
       "      <td>MT</td>\n",
       "      <td>6963</td>\n",
       "    </tr>\n",
       "    <tr>\n",
       "      <th>11</th>\n",
       "      <td>CE</td>\n",
       "      <td>4962</td>\n",
       "    </tr>\n",
       "    <tr>\n",
       "      <th>12</th>\n",
       "      <td>RO</td>\n",
       "      <td>4648</td>\n",
       "    </tr>\n",
       "    <tr>\n",
       "      <th>13</th>\n",
       "      <td>PB</td>\n",
       "      <td>4553</td>\n",
       "    </tr>\n",
       "    <tr>\n",
       "      <th>14</th>\n",
       "      <td>MS</td>\n",
       "      <td>4505</td>\n",
       "    </tr>\n",
       "    <tr>\n",
       "      <th>15</th>\n",
       "      <td>RN</td>\n",
       "      <td>4190</td>\n",
       "    </tr>\n",
       "    <tr>\n",
       "      <th>16</th>\n",
       "      <td>PI</td>\n",
       "      <td>3920</td>\n",
       "    </tr>\n",
       "    <tr>\n",
       "      <th>17</th>\n",
       "      <td>MA</td>\n",
       "      <td>3501</td>\n",
       "    </tr>\n",
       "    <tr>\n",
       "      <th>18</th>\n",
       "      <td>PA</td>\n",
       "      <td>3040</td>\n",
       "    </tr>\n",
       "    <tr>\n",
       "      <th>19</th>\n",
       "      <td>DF</td>\n",
       "      <td>2997</td>\n",
       "    </tr>\n",
       "    <tr>\n",
       "      <th>20</th>\n",
       "      <td>AL</td>\n",
       "      <td>1948</td>\n",
       "    </tr>\n",
       "    <tr>\n",
       "      <th>21</th>\n",
       "      <td>SE</td>\n",
       "      <td>1746</td>\n",
       "    </tr>\n",
       "    <tr>\n",
       "      <th>22</th>\n",
       "      <td>TO</td>\n",
       "      <td>1704</td>\n",
       "    </tr>\n",
       "    <tr>\n",
       "      <th>23</th>\n",
       "      <td>AC</td>\n",
       "      <td>789</td>\n",
       "    </tr>\n",
       "    <tr>\n",
       "      <th>24</th>\n",
       "      <td>RR</td>\n",
       "      <td>723</td>\n",
       "    </tr>\n",
       "    <tr>\n",
       "      <th>25</th>\n",
       "      <td>AP</td>\n",
       "      <td>456</td>\n",
       "    </tr>\n",
       "    <tr>\n",
       "      <th>26</th>\n",
       "      <td>AM</td>\n",
       "      <td>363</td>\n",
       "    </tr>\n",
       "  </tbody>\n",
       "</table>\n",
       "</div>"
      ],
      "text/plain": [
       "   Estados  Acidentes\n",
       "0       MG      26160\n",
       "1       SC      24145\n",
       "2       PR      22850\n",
       "3       RJ      13417\n",
       "4       RS      13216\n",
       "5       SP      12936\n",
       "6       BA      10482\n",
       "7       GO      10046\n",
       "8       ES       8018\n",
       "9       PE       8011\n",
       "10      MT       6963\n",
       "11      CE       4962\n",
       "12      RO       4648\n",
       "13      PB       4553\n",
       "14      MS       4505\n",
       "15      RN       4190\n",
       "16      PI       3920\n",
       "17      MA       3501\n",
       "18      PA       3040\n",
       "19      DF       2997\n",
       "20      AL       1948\n",
       "21      SE       1746\n",
       "22      TO       1704\n",
       "23      AC        789\n",
       "24      RR        723\n",
       "25      AP        456\n",
       "26      AM        363"
      ]
     },
     "execution_count": 10,
     "metadata": {},
     "output_type": "execute_result"
    }
   ],
   "source": [
    "RankingDF = pd.DataFrame(df['uf'].value_counts())\n",
    "RankingDF = RankingDF.reset_index()\n",
    "RankingDF = RankingDF.rename(columns={\"index\":\"Estados\",\"uf\":\"Acidentes\"})\n",
    "RankingDF.to_csv('AcidentesPorEstado.csv', sep=',', header=True, index = None)\n",
    "pd.read_csv('AcidentesPorEstado.csv')"
   ]
  },
  {
   "cell_type": "markdown",
   "metadata": {},
   "source": [
    "Eu aproveitei a estrutura que tinha feito na última questão e aproveitei e só transformei aquilo em um dataframe, e depois eu só reorganizei o dataframe para deixar mais bonito visualmente alterando o nome das colunas, depois só salvei como csv conforme pedido na questão."
   ]
  },
  {
   "cell_type": "markdown",
   "metadata": {},
   "source": [
    "<u>(b) acidentes por dia da semana para todos os anos (um só arquivo combinando a informação dos três anos)</u>"
   ]
  },
  {
   "cell_type": "code",
   "execution_count": 11,
   "metadata": {},
   "outputs": [
    {
     "data": {
      "text/html": [
       "<div>\n",
       "<style scoped>\n",
       "    .dataframe tbody tr th:only-of-type {\n",
       "        vertical-align: middle;\n",
       "    }\n",
       "\n",
       "    .dataframe tbody tr th {\n",
       "        vertical-align: top;\n",
       "    }\n",
       "\n",
       "    .dataframe thead th {\n",
       "        text-align: right;\n",
       "    }\n",
       "</style>\n",
       "<table border=\"1\" class=\"dataframe\">\n",
       "  <thead>\n",
       "    <tr style=\"text-align: right;\">\n",
       "      <th></th>\n",
       "      <th>Dia_da_semana</th>\n",
       "      <th>Acidentes</th>\n",
       "    </tr>\n",
       "  </thead>\n",
       "  <tbody>\n",
       "    <tr>\n",
       "      <th>0</th>\n",
       "      <td>sábado</td>\n",
       "      <td>33005</td>\n",
       "    </tr>\n",
       "    <tr>\n",
       "      <th>1</th>\n",
       "      <td>domingo</td>\n",
       "      <td>33001</td>\n",
       "    </tr>\n",
       "    <tr>\n",
       "      <th>2</th>\n",
       "      <td>sexta-feira</td>\n",
       "      <td>30777</td>\n",
       "    </tr>\n",
       "    <tr>\n",
       "      <th>3</th>\n",
       "      <td>segunda-feira</td>\n",
       "      <td>27075</td>\n",
       "    </tr>\n",
       "    <tr>\n",
       "      <th>4</th>\n",
       "      <td>quinta-feira</td>\n",
       "      <td>26229</td>\n",
       "    </tr>\n",
       "    <tr>\n",
       "      <th>5</th>\n",
       "      <td>quarta-feira</td>\n",
       "      <td>25353</td>\n",
       "    </tr>\n",
       "    <tr>\n",
       "      <th>6</th>\n",
       "      <td>terça-feira</td>\n",
       "      <td>24849</td>\n",
       "    </tr>\n",
       "  </tbody>\n",
       "</table>\n",
       "</div>"
      ],
      "text/plain": [
       "   Dia_da_semana  Acidentes\n",
       "0         sábado      33005\n",
       "1        domingo      33001\n",
       "2    sexta-feira      30777\n",
       "3  segunda-feira      27075\n",
       "4   quinta-feira      26229\n",
       "5   quarta-feira      25353\n",
       "6    terça-feira      24849"
      ]
     },
     "execution_count": 11,
     "metadata": {},
     "output_type": "execute_result"
    }
   ],
   "source": [
    "RankDias = pd.DataFrame(df['dia_semana'].value_counts())\n",
    "RankDias = RankDias.reset_index()\n",
    "RankDias = RankDias.rename(columns={\"index\":\"Dia_da_semana\",\"dia_semana\":\"Acidentes\"})\n",
    "RankDias.to_csv('AcidentesPorDia.csv', sep=',', header=True, index = None)\n",
    "pd.read_csv('AcidentesPorDia.csv')"
   ]
  },
  {
   "cell_type": "markdown",
   "metadata": {},
   "source": [
    "Nessa questão eu peguei a estrutura que eu usei na A dessa questão e troquei os valores, chegando a conclusão de que o dia que mais ocorre acidentes é no sábado, com 33005 acidentes entre o período de 2018 a 2020."
   ]
  },
  {
   "cell_type": "markdown",
   "metadata": {},
   "source": [
    "<div class=\"alert alert-block alert-info\">\n",
    "<b>4ª Tarefa</b>\n",
    " \n",
    "Com relação a ocorrência dos acidentes, responda:\n",
    "</div>"
   ]
  },
  {
   "cell_type": "markdown",
   "metadata": {},
   "source": [
    "<u>(a) qual a causa mais frequente e a mais rara de acidentes registrados nos três anos?</u>"
   ]
  },
  {
   "cell_type": "code",
   "execution_count": 12,
   "metadata": {},
   "outputs": [
    {
     "data": {
      "text/plain": [
       "Falta de Atenção à Condução    73231\n",
       "Name: causa_acidente, dtype: int64"
      ]
     },
     "execution_count": 12,
     "metadata": {},
     "output_type": "execute_result"
    }
   ],
   "source": [
    "df['causa_acidente'].value_counts().head(1)"
   ]
  },
  {
   "cell_type": "markdown",
   "metadata": {},
   "source": [
    "A causa de acidentes mais frequentes é por falta de atenção à condução, com 73231 acidentes causados. Precisando apenas consultar as causas de acidentes com a maior frequência no documento, e pegar apenas o primeiro, por isso o (.head(1)), por ser uma lista imensa causaria uma poluição visual desnecessária."
   ]
  },
  {
   "cell_type": "code",
   "execution_count": 13,
   "metadata": {},
   "outputs": [
    {
     "data": {
      "text/plain": [
       "Pista esburacada    1\n",
       "Name: causa_acidente, dtype: int64"
      ]
     },
     "execution_count": 13,
     "metadata": {},
     "output_type": "execute_result"
    }
   ],
   "source": [
    "df['causa_acidente'].value_counts(ascending=True).head(1)"
   ]
  },
  {
   "cell_type": "markdown",
   "metadata": {},
   "source": [
    "A causa de acidentes menos frequente é por fumaça, com apenas 1 acidente durante os 3 anos. Utilizando o método anterior para listar as causas que mais ocorreram e ao invés de decrescer os valores, ser uma lista crescente."
   ]
  },
  {
   "cell_type": "markdown",
   "metadata": {},
   "source": [
    "<u>(b) qual a proporção de pessoas ilesas e de feridos graves por mês em cada um dos anos\n",
    "considerados? (proporção = numero de ilesos ou feridos graves/ número total de\n",
    "pessoas envolvidas no acidente);</u>"
   ]
  },
  {
   "cell_type": "markdown",
   "metadata": {},
   "source": [
    "<b>2018</b>"
   ]
  },
  {
   "cell_type": "code",
   "execution_count": 14,
   "metadata": {},
   "outputs": [
    {
     "name": "stdout",
     "output_type": "stream",
     "text": [
      "Proporção de pessoas ilesas por mês no ano de 2018 (em porcentagem)\n"
     ]
    },
    {
     "data": {
      "text/plain": [
       "data_inversa\n",
       "1     51.329133\n",
       "2     49.825586\n",
       "3     48.153541\n",
       "4     43.015873\n",
       "5     42.222996\n",
       "6     42.509713\n",
       "7     43.750918\n",
       "8     42.705072\n",
       "9     42.066477\n",
       "10    43.017843\n",
       "11    43.335607\n",
       "12    43.291570\n",
       "dtype: float64"
      ]
     },
     "execution_count": 14,
     "metadata": {},
     "output_type": "execute_result"
    }
   ],
   "source": [
    "df2018['data_inversa'] = pd.to_datetime(df2018['data_inversa'])\n",
    "agrupamento2018 = df2018.groupby(df2018['data_inversa'].dt.month)['ilesos'].sum()\n",
    "pessoas2018 = df2018.groupby(df2018['data_inversa'].dt.month)['pessoas'].sum()\n",
    "print('Proporção de pessoas ilesas por mês no ano de 2018 (em porcentagem)')\n",
    "(agrupamento2018/pessoas2018)*100"
   ]
  },
  {
   "cell_type": "code",
   "execution_count": 15,
   "metadata": {},
   "outputs": [
    {
     "name": "stdout",
     "output_type": "stream",
     "text": [
      "Proporção de pessoas feridas gravemente por mês no ano de 2018 (em porcentagem)\n"
     ]
    },
    {
     "data": {
      "text/plain": [
       "data_inversa\n",
       "1      9.060906\n",
       "2      9.219050\n",
       "3     10.185308\n",
       "4     11.277400\n",
       "5     11.445731\n",
       "6     11.639472\n",
       "7     11.029520\n",
       "8     10.637132\n",
       "9     11.545252\n",
       "10    11.264546\n",
       "11    11.540502\n",
       "12    10.810300\n",
       "dtype: float64"
      ]
     },
     "execution_count": 15,
     "metadata": {},
     "output_type": "execute_result"
    }
   ],
   "source": [
    "df2018['data_inversa'] = pd.to_datetime(df2018['data_inversa'])\n",
    "agrupamento20182 = df2018.groupby(df2018['data_inversa'].dt.month)['feridos_graves'].sum()\n",
    "pessoas2018 = df2018.groupby(df2018['data_inversa'].dt.month)['pessoas'].sum()\n",
    "print('Proporção de pessoas feridas gravemente por mês no ano de 2018 (em porcentagem)')\n",
    "(agrupamento20182/pessoas2018)*100"
   ]
  },
  {
   "cell_type": "markdown",
   "metadata": {},
   "source": [
    "<b>2019</b>"
   ]
  },
  {
   "cell_type": "code",
   "execution_count": 16,
   "metadata": {},
   "outputs": [
    {
     "name": "stdout",
     "output_type": "stream",
     "text": [
      "Proporção de pessoas ilesas por mês no ano de 2019 (em porcentagem)\n"
     ]
    },
    {
     "data": {
      "text/plain": [
       "data_inversa\n",
       "1     42.422393\n",
       "2     42.410374\n",
       "3     43.319331\n",
       "4     41.568474\n",
       "5     41.516217\n",
       "6     42.375662\n",
       "7     43.681530\n",
       "8     41.308397\n",
       "9     42.106417\n",
       "10    41.892183\n",
       "11    42.581205\n",
       "12    42.226500\n",
       "dtype: float64"
      ]
     },
     "execution_count": 16,
     "metadata": {},
     "output_type": "execute_result"
    }
   ],
   "source": [
    "df2019['data_inversa'] = pd.to_datetime(df2019['data_inversa'])\n",
    "agrupamento2019 = df2019.groupby(df2019['data_inversa'].dt.month)['ilesos'].sum()\n",
    "pessoas2019 = df2019.groupby(df2019['data_inversa'].dt.month)['pessoas'].sum()\n",
    "print('Proporção de pessoas ilesas por mês no ano de 2019 (em porcentagem)')\n",
    "(agrupamento2019/pessoas2019)*100"
   ]
  },
  {
   "cell_type": "code",
   "execution_count": 17,
   "metadata": {},
   "outputs": [
    {
     "name": "stdout",
     "output_type": "stream",
     "text": [
      "Proporção de pessoas feridas gravemente por mês no ano de 2019 (em porcentagem)\n"
     ]
    },
    {
     "data": {
      "text/plain": [
       "data_inversa\n",
       "1     11.326367\n",
       "2     10.678871\n",
       "3     11.459945\n",
       "4     10.596957\n",
       "5     12.075029\n",
       "6     12.161658\n",
       "7     11.667016\n",
       "8     11.668281\n",
       "9     11.065634\n",
       "10    11.980475\n",
       "11    11.104681\n",
       "12    11.440488\n",
       "dtype: float64"
      ]
     },
     "execution_count": 17,
     "metadata": {},
     "output_type": "execute_result"
    }
   ],
   "source": [
    "df2019['data_inversa'] = pd.to_datetime(df2019['data_inversa'])\n",
    "agrupamento20192 = df2019.groupby(df2019['data_inversa'].dt.month)['feridos_graves'].sum()\n",
    "pessoas2019 = df2019.groupby(df2019['data_inversa'].dt.month)['pessoas'].sum()\n",
    "print('Proporção de pessoas feridas gravemente por mês no ano de 2019 (em porcentagem)')\n",
    "(agrupamento20192/pessoas2019)*100"
   ]
  },
  {
   "cell_type": "markdown",
   "metadata": {},
   "source": [
    "<b>2020</b>"
   ]
  },
  {
   "cell_type": "code",
   "execution_count": 18,
   "metadata": {},
   "outputs": [
    {
     "name": "stdout",
     "output_type": "stream",
     "text": [
      "Proporção de pessoas ilesas por mês no ano de 2020 (em porcentagem)\n"
     ]
    },
    {
     "data": {
      "text/plain": [
       "data_inversa\n",
       "1     41.556503\n",
       "2     42.001062\n",
       "3     40.102088\n",
       "4     37.626714\n",
       "5     40.133016\n",
       "6     42.328295\n",
       "7     42.432061\n",
       "8     42.341433\n",
       "9     41.601577\n",
       "10    41.100614\n",
       "11    40.704225\n",
       "12    41.229236\n",
       "dtype: float64"
      ]
     },
     "execution_count": 18,
     "metadata": {},
     "output_type": "execute_result"
    }
   ],
   "source": [
    "df2020['data_inversa'] = pd.to_datetime(df2020['data_inversa'])\n",
    "agrupamento2020 = df2020.groupby(df2020['data_inversa'].dt.month)['ilesos'].sum()\n",
    "pessoas2020 = df2020.groupby(df2020['data_inversa'].dt.month)['pessoas'].sum()\n",
    "print('Proporção de pessoas ilesas por mês no ano de 2020 (em porcentagem)')\n",
    "(agrupamento2020/pessoas2020)*100"
   ]
  },
  {
   "cell_type": "code",
   "execution_count": 19,
   "metadata": {},
   "outputs": [
    {
     "name": "stdout",
     "output_type": "stream",
     "text": [
      "Proporção de pessoas feridas gravemente por mês no ano de 2020 (em porcentagem)\n"
     ]
    },
    {
     "data": {
      "text/plain": [
       "data_inversa\n",
       "1     10.746269\n",
       "2     11.135553\n",
       "3     11.257541\n",
       "4     11.794872\n",
       "5     11.594203\n",
       "6     11.593648\n",
       "7     10.861713\n",
       "8     11.916777\n",
       "9     11.738834\n",
       "10    11.971588\n",
       "11    12.038547\n",
       "12    12.199336\n",
       "dtype: float64"
      ]
     },
     "execution_count": 19,
     "metadata": {},
     "output_type": "execute_result"
    }
   ],
   "source": [
    "df2020['data_inversa'] = pd.to_datetime(df2020['data_inversa'])\n",
    "agrupamento20202 = df2020.groupby(df2020['data_inversa'].dt.month)['feridos_graves'].sum()\n",
    "pessoas2020 = df2020.groupby(df2020['data_inversa'].dt.month)['pessoas'].sum()\n",
    "print('Proporção de pessoas feridas gravemente por mês no ano de 2020 (em porcentagem)')\n",
    "(agrupamento20202/pessoas2020)*100"
   ]
  },
  {
   "cell_type": "markdown",
   "metadata": {},
   "source": [
    "Nessa questão, foi preciso transformar a data dos acidentes para que fosse possível filtrar por mês, então eu tive que utilizar o (to_datetime) para transformar a coluna que tinha a data em datetime. Em seguida, eu somei a quantidade de ilesos por mês e a quantidade de pessoas feridas gravemente, e depois eu fiz o mesmo com a quantidade de pessoas envolvidas no acidente por mês, isso graças ao comando (groupby) e separando por meses, e depois é feito a proporção separada por mês de pessoas ilesas e pessoas feridas gravemente apresentada em porcentagem."
   ]
  },
  {
   "cell_type": "markdown",
   "metadata": {},
   "source": [
    "<u>(c) mostre, reorganizando o conjunto de dados, se a pandemia conseguiu diminuir ou não\n",
    "a incidência de acidentes nas rodovias federais.</u>"
   ]
  },
  {
   "cell_type": "code",
   "execution_count": 20,
   "metadata": {
    "scrolled": false
   },
   "outputs": [
    {
     "data": {
      "text/plain": [
       "<AxesSubplot:>"
      ]
     },
     "execution_count": 20,
     "metadata": {},
     "output_type": "execute_result"
    },
    {
     "data": {
      "image/png": "[encoded data removed]",
      "text/plain": [
       "<Figure size 432x288 with 1 Axes>"
      ]
     },
     "metadata": {
      "needs_background": "light"
     },
     "output_type": "display_data"
    }
   ],
   "source": [
    "ano2019 = df2019['data_inversa'].dt.month.value_counts(sort=False)\n",
    "ano2020 = df2020['data_inversa'].dt.month.value_counts(sort=False)\n",
    "dados = {'2019':ano2019,\n",
    "         '2020':ano2020}\n",
    "acidentesdf = pd.DataFrame(dados)\n",
    "acidentesdf.plot()"
   ]
  },
  {
   "cell_type": "markdown",
   "metadata": {},
   "source": [
    "Sim, de fato a pandemia reduziu a incidência de acidência de acidentes nas rodovias federais, analisando o gráfico, pode-se notar que teve uma queda gigantesca durante os meses 3 e 4 de 2020, que foi quando estourou a pandemia no Brasil e paralisou o país inteiro, já nos meses seguintes as pessoas foram saindo de casa e os números naturalmente voltaram a crescer, e atingiram seu ápice no final de ano, em que é comum popularmente as festas de fim de ano."
   ]
  },
  {
   "cell_type": "markdown",
   "metadata": {},
   "source": [
    "Eu utilizei apenas os dados de 2019 e 2020 pois 2020 foi o ano que se iniciou a pandemia e usei apenas o ano anterior para ficar uma comparação com um menor intervalo de tempo, então eu contei a quantidade de casos que teve em cada mês utilizando parâmetros já citados e o (sort=False) para manter a ordem cronológica, logo depois eu juntei os dados e transformei em um dataframe, e no final o comando (<a href=\"https://pandas.pydata.org/pandas-docs/stable/user_guide/visualization.html#basic-plotting-plot\">plot</a>) para dar um ponto de vista melhor sobre a diferença entre os anos comparados."
   ]
  }
 ],
 "metadata": {
  "kernelspec": {
   "display_name": "Python 3",
   "language": "python",
   "name": "python3"
  },
  "language_info": {
   "codemirror_mode": {
    "name": "ipython",
    "version": 3
   },
   "file_extension": ".py",
   "mimetype": "text/x-python",
   "name": "python",
   "nbconvert_exporter": "python",
   "pygments_lexer": "ipython3",
   "version": "3.8.8"
  }
 },
 "nbformat": 4,
 "nbformat_minor": 4
}
